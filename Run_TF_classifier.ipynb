{
 "cells": [
  {
   "cell_type": "code",
   "execution_count": 4,
   "metadata": {},
   "outputs": [],
   "source": [
    "\n",
    "import tensorflow as tf\n",
    "import numpy as np\n",
    "from os import listdir\n",
    "from os.path import isfile, join\n",
    "import pandas as pd\n",
    "import os\n",
    "import sys\n",
    "\n",
    "from functions.audio_functions import *\n",
    "from tf_classes.RNN_class import Multilayer_RNN as Threelayer_RNN"
   ]
  },
  {
   "cell_type": "code",
   "execution_count": null,
   "metadata": {
    "collapsed": true
   },
   "outputs": [],
   "source": [
    "words = ['dog','four','left','off','seven','three','wow','bed','down','go','marvin','on','sheila','tree','yes','bird','eight','happy','nine','one','six','two','zero','cat','five','house','no','right','stop','up','silence']\n",
    "# reduced label indices\n",
    "results = ['unknown','left', 'off' ,'down', 'go', 'on', 'yes', 'no' ,'right' ,'stop' ,'up' ,'silence']\n"
   ]
  },
  {
   "cell_type": "code",
   "execution_count": null,
   "metadata": {
    "collapsed": true
   },
   "outputs": [],
   "source": [
    "labels_to_numbers = {}\n",
    "for f in range(len(results)):\n",
    "    labels_to_numbers[results[f]] = f\n",
    "\n",
    "    \n",
    "location = '../data/train/audio/'\n",
    "\n",
    "index_dict = {}\n",
    "index = 0\n",
    "alt_label = 'unknown'\n",
    "\n",
    "\n",
    "# load data from directories\n",
    "\n",
    "for label in words:\n",
    "    if label in redux:\n",
    "        for f in listdir('%s%s/' %(location,label)):\n",
    "        #print(label, \" \",f)\n",
    "            index_dict[index] = (label,'%s%s/%s'%(location,label,f))\n",
    "            index +=1\n",
    "    else:\n",
    "        print(label)\n",
    "        for f in listdir('%s%s/' %(location,label)):\n",
    "            index_dict[index] = (alt_label,'%s%s/%s'%(location,label,f))\n",
    "            index +=1\n",
    "\n",
    "index_df = pd.DataFrame.from_dict(index_dict, orient='index')"
   ]
  },
  {
   "cell_type": "code",
   "execution_count": null,
   "metadata": {
    "collapsed": true
   },
   "outputs": [],
   "source": [
    "index_df.head()"
   ]
  },
  {
   "cell_type": "code",
   "execution_count": null,
   "metadata": {
    "collapsed": true
   },
   "outputs": [],
   "source": [
    "\n",
    "print(index_df[0].unique())"
   ]
  },
  {
   "cell_type": "code",
   "execution_count": null,
   "metadata": {
    "collapsed": true
   },
   "outputs": [],
   "source": [
    "\n",
    "# load sample data\n",
    "\n",
    "sample_sub = pd.read_csv('../sample_submission.csv')\n",
    "\n",
    "sample_sub[0] = sample_sub['label'].apply(lambda x: 'unknown')\n",
    "sample_sub[1] = sample_sub['fname'].apply(lambda x: '../data/test/audio/%s' %(x))\n",
    "\n",
    "sample_sub = sample_sub.drop('fname',axis=1)\n",
    "sample_sub = sample_sub.drop('label',axis=1)\n",
    "\n",
    "\n",
    "index_sample = []\n",
    "for i in range(len(sample_sub)):\n",
    "    index_sample.append(i)"
   ]
  },
  {
   "cell_type": "code",
   "execution_count": null,
   "metadata": {
    "collapsed": true
   },
   "outputs": [],
   "source": [
    "\n",
    "real_idx = []\n",
    "for i in range(len(realDat)):\n",
    "    real_idx.append(i)\n",
    "\n",
    "prefetched_real = preload_data(real_idx,realDat,augment=False)\n",
    "X_mess, y_mess = batch_from_prefetch_samples(prefetched_real,len(real_idx))\n",
    "\n"
   ]
  },
  {
   "cell_type": "code",
   "execution_count": null,
   "metadata": {
    "collapsed": true
   },
   "outputs": [],
   "source": [
    "\n",
    "train_idx, val_idx = split_val_data(0.99) # split the training data into test and validation\n",
    "\n"
   ]
  },
  {
   "cell_type": "code",
   "execution_count": null,
   "metadata": {
    "collapsed": true
   },
   "outputs": [],
   "source": [
    "# takes a lot of time to load data from mfcc,  prefetch to numpy\n",
    "\n",
    "% time prefetched_data = preload_data(train_idx, index_df ,augment=False)"
   ]
  },
  {
   "cell_type": "code",
   "execution_count": null,
   "metadata": {
    "collapsed": true
   },
   "outputs": [],
   "source": [
    "% time X_batch, y_batch = batch_from_prefetch_samples(prefetched_data,90)"
   ]
  },
  {
   "cell_type": "code",
   "execution_count": null,
   "metadata": {
    "collapsed": true
   },
   "outputs": [],
   "source": [
    "% time prefetched_val = preload_data(val_idx, index_df ,augment=False)"
   ]
  },
  {
   "cell_type": "code",
   "execution_count": null,
   "metadata": {
    "collapsed": true
   },
   "outputs": [],
   "source": [
    "% time prefetched_test = preload_data(index_sample,sample_sub, augment=False)"
   ]
  },
  {
   "cell_type": "code",
   "execution_count": null,
   "metadata": {
    "collapsed": true
   },
   "outputs": [],
   "source": [
    "%time X_batch, y_batch = batch_from_prefetch_samples(prefetched_data,100)"
   ]
  },
  {
   "cell_type": "code",
   "execution_count": null,
   "metadata": {
    "collapsed": true
   },
   "outputs": [],
   "source": [
    "%time data,y_empty = fulldata_prefetch_samples_inorder(prefetched_test)"
   ]
  },
  {
   "cell_type": "code",
   "execution_count": null,
   "metadata": {
    "collapsed": true
   },
   "outputs": [],
   "source": [
    "X_batch, y_batch = batch_from_prefetch_samples(prefetched_data,100)\n",
    "X_val,y_val = batch_from_prefetch_samples(prefetched_val,len(val_idx)"
   ]
  },
  {
   "cell_type": "code",
   "execution_count": 7,
   "metadata": {},
   "outputs": [],
   "source": [
    "RNN = Threelayer_RNN(an_inputs = 99*13,an_hidden1 = 800,\n",
    "                 an_hidden2 = 550, an_hiddencore = 200,a_learning_rate_initial = 0.00007,\n",
    "                 a_decay_steps = 10000,a_decay_rate = 0.95,\n",
    "                 l2_reg = 0.0004,conv_learning_rate_init = 0.002,conv_decay_steps = 10000,\n",
    "                 conv_decay_rate = 0.95,conv_learning_rate = 0.002,dropout = 0.5,\n",
    "                 input_keep_prob = 0.3,n_steps = 13,n_inputs = 99,\n",
    "                 n_neurons = 300 ,n_outputs = 7,\n",
    "                 initial_learning = 0.00015,decay_steps = 30000,\n",
    "                 decay_rate = 0.98,momentum = 0.995 ,scale =0.0014,\n",
    "                logdir = 'Tensorboard_logdir')\n",
    "RNN._build()"
   ]
  },
  {
   "cell_type": "code",
   "execution_count": 8,
   "metadata": {
    "collapsed": true
   },
   "outputs": [],
   "source": []
  },
  {
   "cell_type": "code",
   "execution_count": null,
   "metadata": {
    "collapsed": true
   },
   "outputs": [],
   "source": [
    "RNN.run_autoencoder(prefetched_test=prefetched_data,X_mess=X_val)\n",
    "RNN.run_convnet(X_val=X_val,y_val=y_val,prefetched_data=prefetched_data)\n",
    "RNN.run(X_val=X_val,y_val=y_val,prefetched_data=prefetched_data)\n"
   ]
  },
  {
   "cell_type": "code",
   "execution_count": null,
   "metadata": {
    "collapsed": true
   },
   "outputs": [],
   "source": [
    "RNN.predict(X_test,y_test)"
   ]
  }
 ],
 "metadata": {
  "kernelspec": {
   "display_name": "Python 3",
   "language": "python",
   "name": "python3"
  },
  "language_info": {
   "codemirror_mode": {
    "name": "ipython",
    "version": 3
   },
   "file_extension": ".py",
   "mimetype": "text/x-python",
   "name": "python",
   "nbconvert_exporter": "python",
   "pygments_lexer": "ipython3",
   "version": "3.6.2"
  }
 },
 "nbformat": 4,
 "nbformat_minor": 2
}
