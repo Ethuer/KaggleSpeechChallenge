{
 "cells": [
  {
   "cell_type": "code",
   "execution_count": 1,
   "metadata": {
    "collapsed": true
   },
   "outputs": [],
   "source": [
    "import scipy.io.wavfile as wav\n",
    "import os\n",
    "import numpy as np\n",
    "from python_speech_features import mfcc\n",
    "from python_speech_features import logfbank\n",
    "import scipy.io.wavfile as wav\n",
    "import librosa\n",
    "import IPython.display as ipd"
   ]
  },
  {
   "cell_type": "code",
   "execution_count": 2,
   "metadata": {
    "collapsed": true
   },
   "outputs": [],
   "source": [
    "def normalize_array_to_minmax(one_darray,amp):\n",
    "    \"\"\"normalize values to x/(xmaxormin) * amp and\"\"\"\n",
    "    \n",
    "    max_val = np.max(one_darray)\n",
    "    min_val = np.min(one_darray)\n",
    "    \n",
    "    \n",
    "    for element in one_darray:\n",
    "        if(element > 0):\n",
    "            element = int(float(element)/float(max_val) * float(amp))\n",
    "        if(element < 0):\n",
    "            element = -1*(int(float(element)/float(min_val) * float(amp)))\n",
    "\n",
    "    return one_darray\n",
    "        \n",
    "        \n",
    "\n",
    "def find_index_of_val(one_darray,value):\n",
    "    index = 0\n",
    "    \n",
    "    for element in one_darray:\n",
    "        if element == value:\n",
    "            return index\n",
    "        index +=1\n",
    "    \n",
    "def find_center(one_darray,highpoint,lowpoint):\n",
    "    return int(np.mean([find_index_of_val(one_darray,highpoint),find_index_of_val(one_darray, lowpoint)]))\n",
    "    \n",
    "\n",
    "def cut_and_normalize_array(one_darray, highint=8000):\n",
    "    \"\"\" cut before and after the highest/ lowest peak   \"\"\"\n",
    "    max_val = np.max(one_darray)\n",
    "    min_val = np.min(one_darray)\n",
    "        \n",
    "    # buffer the array with 1500 upstream and 2500 downstream noise\n",
    "    \n",
    "    one_darray = np.hstack((np.zeros(2000), one_darray,np.zeros(3000)))\n",
    "    \n",
    "    center = find_center(one_darray,max_val,min_val)\n",
    "    \n",
    "    one_darray = normalize_minmax_vectorized(one_darray,highint,max_val,min_val)\n",
    "    # hardcode the array\n",
    "    \n",
    "    return one_darray[(center-2000):(center+3000)]\n",
    "    \n",
    "    #print(center,\"  \",normalize_minmax_vectorized(one_darray,highint,max_val,min_val))\n",
    "    "
   ]
  },
  {
   "cell_type": "code",
   "execution_count": 10,
   "metadata": {},
   "outputs": [
    {
     "name": "stdout",
     "output_type": "stream",
     "text": [
      "16000\n"
     ]
    }
   ],
   "source": [
    "audiofilepath = '../data/train/audio/cat/004ae714_nohash_0.wav'\n",
    "rate,data = wav.read(audiofilepath)\n",
    "center = find_center(data,np.max(data),np.min(data))\n",
    "\n",
    "silence = data[:center-2000]\n",
    "\n",
    "while len(silence) < 16000:\n",
    "    silence = np.vstack((silence,silence))\n",
    "\n",
    "print(len(silence[:16000]))\n"
   ]
  },
  {
   "cell_type": "code",
   "execution_count": 4,
   "metadata": {},
   "outputs": [
    {
     "ename": "KeyboardInterrupt",
     "evalue": "",
     "output_type": "error",
     "traceback": [
      "\u001b[0;31m---------------------------------------------------------------------------\u001b[0m",
      "\u001b[0;31mKeyboardInterrupt\u001b[0m                         Traceback (most recent call last)",
      "\u001b[0;32m<ipython-input-4-9f61637c45cb>\u001b[0m in \u001b[0;36m<module>\u001b[0;34m()\u001b[0m\n\u001b[1;32m     16\u001b[0m                             \u001b[0mrate\u001b[0m\u001b[0;34m,\u001b[0m\u001b[0mdata\u001b[0m \u001b[0;34m=\u001b[0m \u001b[0mwav\u001b[0m\u001b[0;34m.\u001b[0m\u001b[0mread\u001b[0m\u001b[0;34m(\u001b[0m\u001b[0maudiofilepath\u001b[0m\u001b[0;34m)\u001b[0m\u001b[0;34m\u001b[0m\u001b[0m\n\u001b[1;32m     17\u001b[0m \u001b[0;34m\u001b[0m\u001b[0m\n\u001b[0;32m---> 18\u001b[0;31m                             \u001b[0mcenter\u001b[0m \u001b[0;34m=\u001b[0m \u001b[0mfind_center\u001b[0m\u001b[0;34m(\u001b[0m\u001b[0mdata\u001b[0m\u001b[0;34m,\u001b[0m\u001b[0mnp\u001b[0m\u001b[0;34m.\u001b[0m\u001b[0mmax\u001b[0m\u001b[0;34m(\u001b[0m\u001b[0mdata\u001b[0m\u001b[0;34m)\u001b[0m\u001b[0;34m,\u001b[0m\u001b[0mnp\u001b[0m\u001b[0;34m.\u001b[0m\u001b[0mmin\u001b[0m\u001b[0;34m(\u001b[0m\u001b[0mdata\u001b[0m\u001b[0;34m)\u001b[0m\u001b[0;34m)\u001b[0m\u001b[0;34m\u001b[0m\u001b[0m\n\u001b[0m\u001b[1;32m     19\u001b[0m                             \u001b[0;32mif\u001b[0m \u001b[0mcenter\u001b[0m \u001b[0;34m>\u001b[0m \u001b[0;36m10000\u001b[0m\u001b[0;34m:\u001b[0m\u001b[0;34m\u001b[0m\u001b[0m\n\u001b[1;32m     20\u001b[0m \u001b[0;34m\u001b[0m\u001b[0m\n",
      "\u001b[0;32m<ipython-input-2-be3547ea4e00>\u001b[0m in \u001b[0;36mfind_center\u001b[0;34m(one_darray, highpoint, lowpoint)\u001b[0m\n\u001b[1;32m     25\u001b[0m \u001b[0;34m\u001b[0m\u001b[0m\n\u001b[1;32m     26\u001b[0m \u001b[0;32mdef\u001b[0m \u001b[0mfind_center\u001b[0m\u001b[0;34m(\u001b[0m\u001b[0mone_darray\u001b[0m\u001b[0;34m,\u001b[0m\u001b[0mhighpoint\u001b[0m\u001b[0;34m,\u001b[0m\u001b[0mlowpoint\u001b[0m\u001b[0;34m)\u001b[0m\u001b[0;34m:\u001b[0m\u001b[0;34m\u001b[0m\u001b[0m\n\u001b[0;32m---> 27\u001b[0;31m     \u001b[0;32mreturn\u001b[0m \u001b[0mint\u001b[0m\u001b[0;34m(\u001b[0m\u001b[0mnp\u001b[0m\u001b[0;34m.\u001b[0m\u001b[0mmean\u001b[0m\u001b[0;34m(\u001b[0m\u001b[0;34m[\u001b[0m\u001b[0mfind_index_of_val\u001b[0m\u001b[0;34m(\u001b[0m\u001b[0mone_darray\u001b[0m\u001b[0;34m,\u001b[0m\u001b[0mhighpoint\u001b[0m\u001b[0;34m)\u001b[0m\u001b[0;34m,\u001b[0m\u001b[0mfind_index_of_val\u001b[0m\u001b[0;34m(\u001b[0m\u001b[0mone_darray\u001b[0m\u001b[0;34m,\u001b[0m \u001b[0mlowpoint\u001b[0m\u001b[0;34m)\u001b[0m\u001b[0;34m]\u001b[0m\u001b[0;34m)\u001b[0m\u001b[0;34m)\u001b[0m\u001b[0;34m\u001b[0m\u001b[0m\n\u001b[0m\u001b[1;32m     28\u001b[0m \u001b[0;34m\u001b[0m\u001b[0m\n\u001b[1;32m     29\u001b[0m \u001b[0;34m\u001b[0m\u001b[0m\n",
      "\u001b[0;32m<ipython-input-2-be3547ea4e00>\u001b[0m in \u001b[0;36mfind_index_of_val\u001b[0;34m(one_darray, value)\u001b[0m\n\u001b[1;32m     19\u001b[0m     \u001b[0mindex\u001b[0m \u001b[0;34m=\u001b[0m \u001b[0;36m0\u001b[0m\u001b[0;34m\u001b[0m\u001b[0m\n\u001b[1;32m     20\u001b[0m \u001b[0;34m\u001b[0m\u001b[0m\n\u001b[0;32m---> 21\u001b[0;31m     \u001b[0;32mfor\u001b[0m \u001b[0melement\u001b[0m \u001b[0;32min\u001b[0m \u001b[0mone_darray\u001b[0m\u001b[0;34m:\u001b[0m\u001b[0;34m\u001b[0m\u001b[0m\n\u001b[0m\u001b[1;32m     22\u001b[0m         \u001b[0;32mif\u001b[0m \u001b[0melement\u001b[0m \u001b[0;34m==\u001b[0m \u001b[0mvalue\u001b[0m\u001b[0;34m:\u001b[0m\u001b[0;34m\u001b[0m\u001b[0m\n\u001b[1;32m     23\u001b[0m             \u001b[0;32mreturn\u001b[0m \u001b[0mindex\u001b[0m\u001b[0;34m\u001b[0m\u001b[0m\n",
      "\u001b[0;31mKeyboardInterrupt\u001b[0m: "
     ]
    }
   ],
   "source": [
    "#moddir = '../data/mod/train/audio/'\n",
    "train_folder = '../data/train/audio/'\n",
    "\n",
    "files_written = 0\n",
    "\n",
    "for (dirpath, dirnames, filenames) in os.walk(train_folder):\n",
    "    #if count < maxcount:\n",
    "        for dirs in dirnames:\n",
    "            for (dirpath, dirnames, filenames) in os.walk('../data/train/audio/' + str(dirs)):\n",
    "                for files in filenames:\n",
    "                \n",
    "                    if files.endswith('.wav'):\n",
    "                        #try:\n",
    "                        \n",
    "                            audiofilepath = '%s%s/%s' %(train_folder,dirs,files)\n",
    "                            rate,data = wav.read(audiofilepath)\n",
    "                            \n",
    "                            center = find_center(data,np.max(data),np.min(data))\n",
    "                            if center > 10000:\n",
    "                                \n",
    "                                files_written +=1\n",
    "                                \n",
    "                                silence = data[:center-4000]\n",
    "                            \n",
    "                                while len(silence) < 16000:\n",
    "                                    silence = np.hstack((silence,silence))\n",
    "\n",
    "\n",
    "                                wav.write(filename='../data/train/audio/silence/%s_silence.wav' %(files), \n",
    "                                          data=np.ndarray.astype(silence[:16000],np.int16), rate=16000)\n",
    "\n",
    "                                \n",
    "print(\"wrote \" ,files_written, \" files\")"
   ]
  },
  {
   "cell_type": "code",
   "execution_count": null,
   "metadata": {
    "collapsed": true
   },
   "outputs": [],
   "source": []
  }
 ],
 "metadata": {
  "kernelspec": {
   "display_name": "Python 3",
   "language": "python",
   "name": "python3"
  },
  "language_info": {
   "codemirror_mode": {
    "name": "ipython",
    "version": 3
   },
   "file_extension": ".py",
   "mimetype": "text/x-python",
   "name": "python",
   "nbconvert_exporter": "python",
   "pygments_lexer": "ipython3",
   "version": "3.6.2"
  }
 },
 "nbformat": 4,
 "nbformat_minor": 2
}
