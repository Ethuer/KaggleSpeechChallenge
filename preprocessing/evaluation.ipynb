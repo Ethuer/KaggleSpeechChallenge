{
 "cells": [
  {
   "cell_type": "code",
   "execution_count": 1,
   "metadata": {
    "collapsed": true
   },
   "outputs": [],
   "source": [
    "from sklearn.metrics import confusion_matrix\n",
    "%matplotlib inline\n",
    "import matplotlib.pyplot as plt\n",
    "import itertools"
   ]
  },
  {
   "cell_type": "code",
   "execution_count": null,
   "metadata": {
    "collapsed": true
   },
   "outputs": [],
   "source": [
    "#results = ['unknown','left', 'off' ,'down', 'go', 'on', 'yes', 'no' ,'right' ,'stop' ,'up' ,'silence']\n",
    "\n",
    "for element in range(len(y_pred)):\n",
    "    if not y_pred[element] == y_mess[element]:\n",
    "        print(sam_mess[element], \"predict : \" ,results[y_pred[element]] , \" \\t label : \", results[y_mess[element]] )"
   ]
  },
  {
   "cell_type": "code",
   "execution_count": null,
   "metadata": {
    "collapsed": true
   },
   "outputs": [],
   "source": [
    "conf = confusion_matrix(y_mess, y_pred)"
   ]
  },
  {
   "cell_type": "code",
   "execution_count": null,
   "metadata": {
    "collapsed": true
   },
   "outputs": [],
   "source": [
    "def plot_confusion_matrix(cm, classes,\n",
    "                          normalize=False,\n",
    "                          title='Confusion matrix',\n",
    "                          cmap=plt.cm.Blues):\n",
    "    \"\"\"\n",
    "    This function prints and plots the confusion matrix.\n",
    "    Normalization can be applied by setting `normalize=True`.\n",
    "    \"\"\"\n",
    "    if normalize:\n",
    "        cm = cm.astype('float') / cm.sum(axis=1)[:, np.newaxis]\n",
    "        print(\"Normalized confusion matrix\")\n",
    "    else:\n",
    "        print('Confusion matrix, without normalization')\n",
    "\n",
    "    print(cm)\n",
    "\n",
    "    plt.imshow(cm, interpolation='nearest', cmap=cmap)\n",
    "    plt.title(title)\n",
    "    plt.colorbar()\n",
    "    tick_marks = np.arange(len(classes))\n",
    "    plt.xticks(tick_marks, classes, rotation=45)\n",
    "    plt.yticks(tick_marks, classes)\n",
    "\n",
    "    fmt = '.2f' if normalize else 'd'\n",
    "    thresh = cm.max() / 2.\n",
    "    for i, j in itertools.product(range(cm.shape[0]), range(cm.shape[1])):\n",
    "        plt.text(j, i, format(cm[i, j], fmt),\n",
    "                 horizontalalignment=\"center\",\n",
    "                 color=\"white\" if cm[i, j] > thresh else \"black\")\n",
    "\n",
    "    plt.tight_layout()\n",
    "    plt.ylabel('True label')\n",
    "    plt.xlabel('Predicted label')"
   ]
  },
  {
   "cell_type": "code",
   "execution_count": null,
   "metadata": {
    "collapsed": true
   },
   "outputs": [],
   "source": [
    "plt.figure()\n",
    "plot_confusion_matrix(conf, classes=results,\n",
    "                      title='Confusion matrix, without normalization')\n",
    "\n",
    "plt.figure()\n",
    "plot_confusion_matrix(conf, classes=results, normalize=True,\n",
    "                      title='Normalized confusion matrix')\n",
    "\n",
    "\n",
    "plt.show()"
   ]
  },
  {
   "cell_type": "code",
   "execution_count": null,
   "metadata": {
    "collapsed": true
   },
   "outputs": [],
   "source": [
    "# Submissions are evaluated on Multiclass Accuracy, \n",
    "#which is simply the average number of observations with the correct label.\n",
    "\n",
    "\n",
    "def multiclass_accuracy(x_lab, x_pred):\n",
    "    classdict = {}\n",
    "    all_list = []\n",
    "    TP = 0.0\n",
    "    total = 0.0\n",
    "    \n",
    "    for index in range(len(x_lab)):\n",
    "        if not x_lab[index] in classdict:\n",
    "            classdict[x_lab[index]] = [0.0,0.0]\n",
    "        \n",
    "    for index in range(len(x_lab)):\n",
    "        \n",
    "        if x_lab[index] == x_pred[index]:\n",
    "            classdict[x_lab[index]][0] +=1\n",
    "            \n",
    "        if x_lab[index] != x_pred[index]:\n",
    "            classdict[x_lab[index]][1] +=1\n",
    "        classdict[x_lab[index]][1] +=1\n",
    "    \n",
    "    \n",
    "    \n",
    "    for key,vals in classdict.items():\n",
    "\n",
    "        all_list.append(float(vals[0]/float(vals[1])))\n",
    "        \n",
    "    \n",
    "    return np.mean(all_list)\n",
    "                  "
   ]
  }
 ],
 "metadata": {
  "kernelspec": {
   "display_name": "Python 3",
   "language": "python",
   "name": "python3"
  },
  "language_info": {
   "codemirror_mode": {
    "name": "ipython",
    "version": 3
   },
   "file_extension": ".py",
   "mimetype": "text/x-python",
   "name": "python",
   "nbconvert_exporter": "python",
   "pygments_lexer": "ipython3",
   "version": "3.6.2"
  }
 },
 "nbformat": 4,
 "nbformat_minor": 2
}
